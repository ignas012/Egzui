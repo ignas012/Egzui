{
 "cells": [
  {
   "cell_type": "markdown",
   "id": "2b8b7b78-c13a-4529-98dd-cb1f4b31d13c",
   "metadata": {},
   "source": [
    "### Paskaitos metu nagrinėto uždavinio sprendimas su Python\n",
    "\n",
    "**Uždavinys**: Patikrinkite hipotezę, ar imties ***x*** vidurkis skirasi nuo 5,5."
   ]
  },
  {
   "cell_type": "code",
   "execution_count": 32,
   "id": "91725943-3322-4872-977d-68a20a525951",
   "metadata": {},
   "outputs": [
    {
     "data": {
      "text/plain": [
       "array([ 3,  4,  5,  4,  6,  8,  7,  6, 11])"
      ]
     },
     "execution_count": 32,
     "metadata": {},
     "output_type": "execute_result"
    }
   ],
   "source": [
    "# Import necessary libraries\n",
    "import numpy as np\n",
    "from scipy import stats\n",
    "\n",
    "# Given student scores\n",
    "x = np.array([3, 4, 5, 4, 6, 8, 7, 6, 11])\n",
    "x"
   ]
  },
  {
   "cell_type": "code",
   "execution_count": 37,
   "id": "6833bf24-7464-48fc-9b8f-f40efe617a2d",
   "metadata": {
    "scrolled": true
   },
   "outputs": [
    {
     "data": {
      "text/plain": [
       "6.0"
      ]
     },
     "execution_count": 37,
     "metadata": {},
     "output_type": "execute_result"
    }
   ],
   "source": [
    "# Imties vidurkis\n",
    "vid = np.mean(x)\n",
    "vid"
   ]
  },
  {
   "cell_type": "code",
   "execution_count": 36,
   "id": "a7ce5130-b414-4bce-9edd-12d56aac4879",
   "metadata": {},
   "outputs": [
    {
     "data": {
      "text/plain": [
       "6.0"
      ]
     },
     "execution_count": 36,
     "metadata": {},
     "output_type": "execute_result"
    }
   ],
   "source": [
    "# Imties dispersija:\n",
    "disp = sum((x-vid)**2)/(len(x)-1)\n",
    "disp"
   ]
  },
  {
   "cell_type": "code",
   "execution_count": 38,
   "id": "9391846b-d591-4046-a4ac-5bdb37e64663",
   "metadata": {},
   "outputs": [
    {
     "data": {
      "text/plain": [
       "5.333333333333333"
      ]
     },
     "execution_count": 38,
     "metadata": {},
     "output_type": "execute_result"
    }
   ],
   "source": [
    "# Imties dispersija skaičiuojant nepatikslintą dispersijos įvertį:\n",
    "np.var(x, ddof=0)"
   ]
  },
  {
   "cell_type": "code",
   "execution_count": 39,
   "id": "084858ee-0530-4a13-954d-e2735328168d",
   "metadata": {},
   "outputs": [
    {
     "data": {
      "text/plain": [
       "6.0"
      ]
     },
     "execution_count": 39,
     "metadata": {},
     "output_type": "execute_result"
    }
   ],
   "source": [
    "# Imties dispersija skaičiuojant patikslintą dispersijos įvertį:\n",
    "np.var(x, ddof=1) # Šį įvertį rekomenduojama taikyti imties duomenims."
   ]
  },
  {
   "cell_type": "code",
   "execution_count": 40,
   "id": "b16bc21a-053f-4ece-bafb-6441ad1dad0c",
   "metadata": {},
   "outputs": [
    {
     "data": {
      "text/plain": [
       "ShapiroResult(statistic=0.9341034889221191, pvalue=0.5213719606399536)"
      ]
     },
     "execution_count": 40,
     "metadata": {},
     "output_type": "execute_result"
    }
   ],
   "source": [
    "# Ar nagrinėjamas kintamasis pasiskirstęs normaliai?\n",
    "shapiro_test = stats.shapiro(x)\n",
    "shapiro_test"
   ]
  },
  {
   "cell_type": "code",
   "execution_count": 41,
   "id": "725bffa2-1ec6-4e27-aafa-5fdbd1d73695",
   "metadata": {},
   "outputs": [
    {
     "data": {
      "image/png": "[encoded data removed]",
      "text/plain": [
       "<Figure size 640x480 with 1 Axes>"
      ]
     },
     "metadata": {},
     "output_type": "display_data"
    }
   ],
   "source": [
    "import matplotlib.pyplot as mtl\n",
    "mtl.hist(x)\n",
    "mtl.grid(True) # Matome, kad histograma neinformatyvi. Taip yra dėl labai mažos imties."
   ]
  },
  {
   "cell_type": "code",
   "execution_count": 42,
   "id": "846c80f0-72f5-498b-8296-7b498f412a84",
   "metadata": {},
   "outputs": [
    {
     "data": {
      "text/plain": [
       "0.6123724356957945"
      ]
     },
     "execution_count": 42,
     "metadata": {},
     "output_type": "execute_result"
    }
   ],
   "source": [
    "# Kriterijaus statistiką:\n",
    "import numpy as np\n",
    "from scipy import stats\n",
    "mu = 5.5\n",
    "vid = np.mean(x)\n",
    "t = (vid-mu)/(np.var(x, ddof=1)/len(x))**(1/2)\n",
    "t"
   ]
  },
  {
   "cell_type": "code",
   "execution_count": null,
   "id": "6dd7125c-29f2-4558-9912-85f5395843b5",
   "metadata": {},
   "outputs": [],
   "source": [
    "# t(0.05/2; 9-1) = t(0.025; 8) = 2.306, vadinasi H0 neatmetama."
   ]
  },
  {
   "cell_type": "code",
   "execution_count": 43,
   "id": "5f822f73-4ebc-4d9b-8210-e8cf51bd083c",
   "metadata": {},
   "outputs": [
    {
     "name": "stdout",
     "output_type": "stream",
     "text": [
      "T statistic: 0.6123724356957945\n",
      "P-value: 0.5572921622409885\n",
      "Fail to reject the null hypothesis; there is no significant difference between the sample mean and the hypothesized population mean.\n"
     ]
    }
   ],
   "source": [
    "# Perform one-sample t-test\n",
    "import numpy as np\n",
    "from scipy import stats\n",
    "mu = 5.5\n",
    "t_stat, p_value = stats.ttest_1samp(x, mu)\n",
    "print(\"T statistic:\", t_stat)\n",
    "print(\"P-value:\", p_value)\n",
    "\n",
    "# Setting significance level\n",
    "alpha = 0.05\n",
    "\n",
    "# Interpret the results\n",
    "if p_value < alpha:\n",
    "    print(\"Reject the null hypothesis; there is a significant difference between the sample mean and the hypothesized population mean.\")\n",
    "else:\n",
    "    print(\"Fail to reject the null hypothesis; there is no significant difference between the sample mean and the hypothesized population mean.\")"
   ]
  }
 ],
 "metadata": {
  "kernelspec": {
   "display_name": "Python 3 (ipykernel)",
   "language": "python",
   "name": "python3"
  },
  "language_info": {
   "codemirror_mode": {
    "name": "ipython",
    "version": 3
   },
   "file_extension": ".py",
   "mimetype": "text/x-python",
   "name": "python",
   "nbconvert_exporter": "python",
   "pygments_lexer": "ipython3",
   "version": "3.11.7"
  }
 },
 "nbformat": 4,
 "nbformat_minor": 5
}
