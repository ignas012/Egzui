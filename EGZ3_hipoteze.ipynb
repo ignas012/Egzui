{
 "cells": [
  {
   "attachments": {},
   "cell_type": "markdown",
   "id": "6dc852e5",
   "metadata": {},
   "source": [
    "### 1. Korelacijos nustatymas\n"
   ]
  },
  {
   "cell_type": "code",
   "execution_count": 7,
   "id": "46c4227c",
   "metadata": {},
   "outputs": [
    {
     "name": "stdout",
     "output_type": "stream",
     "text": [
      "Koreliacijos koeficientas yra: 0.8888263684281623\n",
      "P-reikšmė yra: 2.636267622385285e-66\n",
      "Koreliacija yra statistiškai reikšminga.\n"
     ]
    }
   ],
   "source": [
    "import pandas as pd\n",
    "from scipy.stats import pearsonr\n",
    "from scipy.stats import ttest_ind\n",
    "\n",
    "# Duomenų įkėlimas\n",
    "df = pd.read_csv('./Data.txt', sep=\" \", decimal='.')\n",
    "\n",
    "# Koreliacijos koeficiento skaičiavimas\n",
    "correlation, p_value = pearsonr(df['DriversKilled'], df['drivers'])\n",
    "\n",
    "# Rezultatų atvaizdavimas\n",
    "print(\"Koreliacijos koeficientas yra:\", correlation)\n",
    "print(\"P-reikšmė yra:\", p_value)\n",
    "\n",
    "# Statistinio reikšmingumo nustatymas\n",
    "if p_value < 0.05:\n",
    "    print(\"Koreliacija yra statistiškai reikšminga.\")\n",
    "else:\n",
    "    print(\"Koreliacija nėra statistiškai reikšminga.\")\n",
    "\n"
   ]
  },
  {
   "cell_type": "markdown",
   "id": "e08cfea5",
   "metadata": {},
   "source": [
    "Kadangi P reiškmė mažiau už < 0.05, tai apskaičiuota koreliacija statistiškai reikšminga\n",
    "\n",
    "Koreliacija yra"
   ]
  },
  {
   "cell_type": "markdown",
   "id": "591dc19f",
   "metadata": {},
   "source": [
    "### 2. Ar galima teigti, jog kintamasis DriversKilled turi normalųjį pasiskirstymą?"
   ]
  },
  {
   "cell_type": "code",
   "execution_count": 9,
   "id": "1d04fdbe",
   "metadata": {},
   "outputs": [
    {
     "data": {
      "image/png": "[encoded data removed]",
      "text/plain": [
       "<Figure size 640x480 with 1 Axes>"
      ]
     },
     "metadata": {},
     "output_type": "display_data"
    },
    {
     "name": "stdout",
     "output_type": "stream",
     "text": [
      "Shapiro-Wilk testas:\n",
      "Testo statistika: 0.975567638874054\n",
      "P-value: 0.0019376883283257484\n",
      "\n",
      "Kolmogorovo-Smirnov testas:\n",
      "Testo statistika: 1.0\n",
      "P-value: 0.0\n"
     ]
    }
   ],
   "source": [
    "from scipy import stats\n",
    "import matplotlib.pyplot as plt\n",
    "\n",
    "# Gauti duomenys apie kintamąjį DriversKilled\n",
    "drivers_killed_data = df['DriversKilled']\n",
    "\n",
    "# Brėžiama histograma\n",
    "plt.hist(drivers_killed_data, bins=20, color='skyblue', edgecolor='black')\n",
    "plt.title('Histogram of DriversKilled')\n",
    "plt.xlabel('DriversKilled')\n",
    "plt.ylabel('Frequency')\n",
    "plt.show()\n",
    "\n",
    "# Shapiro-Wilk testas normalumui patikrinti\n",
    "shapiro_test_statistic, shapiro_p_value = stats.shapiro(drivers_killed_data)\n",
    "print(\"Shapiro-Wilk testas:\")\n",
    "print(\"Testo statistika:\", shapiro_test_statistic)\n",
    "print(\"P-value:\", shapiro_p_value)\n",
    "\n",
    "# Kolmogorovo-Smirnov testas normalumui patikrinti\n",
    "ks_test_statistic, ks_p_value = stats.kstest(drivers_killed_data, 'norm')\n",
    "print(\"\\nKolmogorovo-Smirnov testas:\")\n",
    "print(\"Testo statistika:\", ks_test_statistic)\n",
    "print(\"P-value:\", ks_p_value)"
   ]
  },
  {
   "cell_type": "markdown",
   "id": "c9481b23",
   "metadata": {},
   "source": [
    "- Shapiro-Wilk iki 5k imčių\n",
    "- Kolmogorovo-Smirnov daugiau nei 5k imtys\n",
    "\n",
    "Kadangi p-value < 0.05, tai neturi normalūmo.\n",
    "\n",
    "-  p-value = 0.0019. Šis p-value rodo, kad yra labai maža tikimybė (mažesnė nei 0.1%), jog kintamojo „DriversKilled“ pasiskirstymas gali būti laikomas normaliuoju, remiantis statistiniu testu, kurį atlikote. Įprastai p-value mažesnis nei 0.05 (5%) yra interpretuojamas kaip pakankamas įrodymas atmesti hipotezę apie normalųjį pasiskirstymą.\n",
    "\n",
    "- p-value didesnis nei 0.05 leidžia priimti nulinę hipotezę, kad kintamasis seka normalųjį pasiskirstymą. Vis dėlto, visada svarbu įvertinti kitus rodiklius ir atlikti papildomus testus bei grafines analizes (pvz., histogramas arba QQ plotus), kad patvirtintumėte šią išvadą, nes p-value tik informuoja apie statistinį tikėtinumą hipotezės atmetimui, bet negarantuoja pasiskirstymo tipo.\n"
   ]
  },
  {
   "cell_type": "markdown",
   "id": "edb48161",
   "metadata": {},
   "source": [
    "### 3. Ar galima teigti, kad kintamųjų Front ir Rear skirstiniai skirasi? "
   ]
  },
  {
   "cell_type": "code",
   "execution_count": 15,
   "id": "5f000961",
   "metadata": {},
   "outputs": [
    {
     "name": "stdout",
     "output_type": "stream",
     "text": [
      "Statistika: 0.9941620230674744\n",
      "P-reikšmė yra: 0.6549763679504395\n",
      "\n",
      "Statistika: 0.9858771562576294\n",
      "P-reikšmė yra: 0.05159227177500725\n"
     ]
    }
   ],
   "source": [
    "from scipy.stats import shapiro\n",
    "\n",
    "# Normalumo testas\n",
    "statistic, p_value = shapiro(df['front'])\n",
    "print(\"Statistika:\", statistic)\n",
    "print(\"P-reikšmė yra:\", p_value)\n",
    "\n",
    "print('')\n",
    "\n",
    "# Normalumo testas\n",
    "statistic, p_value = shapiro(df['rear'])\n",
    "print(\"Statistika:\", statistic)\n",
    "print(\"P-reikšmė yra:\", p_value)\n",
    "# Tikriname statistinę reikšmingumą"
   ]
  },
  {
   "cell_type": "markdown",
   "id": "8ce20195",
   "metadata": {},
   "source": [
    "### T testas"
   ]
  },
  {
   "cell_type": "code",
   "execution_count": 17,
   "id": "822a2bc4",
   "metadata": {},
   "outputs": [
    {
     "name": "stdout",
     "output_type": "stream",
     "text": [
      "5.48679756577699e-107\n",
      "T-testo rezultatai: Skirstiniai skiriasi kadangi (p < 0.05)\n"
     ]
    }
   ],
   "source": [
    "from scipy import stats\n",
    "\n",
    "a = df['front']\n",
    "b = df['rear']\n",
    "\n",
    "# T-testas\n",
    "t_statistic, p_value = stats.ttest_ind(a, b)\n",
    "\n",
    "# Wilcoxon-Mann-Whitney U testas\n",
    "u_statistic, wilcox_p_value = stats.mannwhitneyu(a, b)\n",
    "\n",
    "print(p_value)\n",
    "\n",
    "# Tikriname p-value\n",
    "if p_value < 0.05:\n",
    "    print(\"T-testo rezultatai: Skirstiniai skiriasi kadangi (p < 0.05)\")\n",
    "else:\n",
    "    print(\"T-testo rezultatai: Duomenys nesiskiria statistiškai (p >= 0.05)\")\n"
   ]
  },
  {
   "cell_type": "markdown",
   "id": "3d3d2f3a",
   "metadata": {},
   "source": [
    "### Jeigu p value mažiau už 0.05 tada Vilkoksono kriterijus taikomas\n"
   ]
  },
  {
   "cell_type": "code",
   "execution_count": null,
   "id": "97afcbb4",
   "metadata": {},
   "outputs": [],
   "source": [
    "# import pandas as pd\n",
    "# from scipy.stats import wilcoxon\n",
    "\n",
    "# # Atlikite Wilcoxon testą\n",
    "# stat, p = wilcoxon(df['Front'], df['Rear'])\n",
    "\n",
    "# print(f'Wilcoxon test statistic: {stat}, p-value: {p}')\n"
   ]
  },
  {
   "cell_type": "markdown",
   "id": "bd0aed1a",
   "metadata": {},
   "source": [
    "- Kai abu kintamieji 0.05 pavlue, tada taikome T testą\n",
    "- Kai 1 kintamasis mažiau už 0.05, o kitas daugiau už 0,05 tada taikome Vilkoksnono\n",
    "- Kai abu kintamieji mažiau už 0.05 value tada taikome Vilkoksnono"
   ]
  }
 ],
 "metadata": {
  "kernelspec": {
   "display_name": "Python 3 (ipykernel)",
   "language": "python",
   "name": "python3"
  },
  "language_info": {
   "codemirror_mode": {
    "name": "ipython",
    "version": 3
   },
   "file_extension": ".py",
   "mimetype": "text/x-python",
   "name": "python",
   "nbconvert_exporter": "python",
   "pygments_lexer": "ipython3",
   "version": "3.10.7"
  }
 },
 "nbformat": 4,
 "nbformat_minor": 5
}
