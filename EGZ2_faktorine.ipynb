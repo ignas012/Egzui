{
 "cells": [
  {
   "attachments": {},
   "cell_type": "markdown",
   "id": "6dc852e5",
   "metadata": {},
   "source": [
    "### 1. Duomenų įsikėlimas\n"
   ]
  },
  {
   "cell_type": "code",
   "execution_count": 147,
   "id": "46c4227c",
   "metadata": {},
   "outputs": [
    {
     "data": {
      "text/html": [
       "<div>\n",
       "<style scoped>\n",
       "    .dataframe tbody tr th:only-of-type {\n",
       "        vertical-align: middle;\n",
       "    }\n",
       "\n",
       "    .dataframe tbody tr th {\n",
       "        vertical-align: top;\n",
       "    }\n",
       "\n",
       "    .dataframe thead th {\n",
       "        text-align: right;\n",
       "    }\n",
       "</style>\n",
       "<table border=\"1\" class=\"dataframe\">\n",
       "  <thead>\n",
       "    <tr style=\"text-align: right;\">\n",
       "      <th></th>\n",
       "      <th>DriversKilled</th>\n",
       "      <th>drivers</th>\n",
       "      <th>front</th>\n",
       "      <th>rear</th>\n",
       "      <th>kms</th>\n",
       "      <th>PetrolPrice</th>\n",
       "      <th>VanKilled</th>\n",
       "      <th>law</th>\n",
       "    </tr>\n",
       "  </thead>\n",
       "  <tbody>\n",
       "    <tr>\n",
       "      <th>1</th>\n",
       "      <td>107</td>\n",
       "      <td>1687</td>\n",
       "      <td>867</td>\n",
       "      <td>269</td>\n",
       "      <td>9059</td>\n",
       "      <td>0.102972</td>\n",
       "      <td>12</td>\n",
       "      <td>0</td>\n",
       "    </tr>\n",
       "    <tr>\n",
       "      <th>2</th>\n",
       "      <td>97</td>\n",
       "      <td>1508</td>\n",
       "      <td>825</td>\n",
       "      <td>265</td>\n",
       "      <td>7685</td>\n",
       "      <td>0.102363</td>\n",
       "      <td>6</td>\n",
       "      <td>0</td>\n",
       "    </tr>\n",
       "    <tr>\n",
       "      <th>3</th>\n",
       "      <td>102</td>\n",
       "      <td>1507</td>\n",
       "      <td>806</td>\n",
       "      <td>319</td>\n",
       "      <td>9963</td>\n",
       "      <td>0.102062</td>\n",
       "      <td>12</td>\n",
       "      <td>0</td>\n",
       "    </tr>\n",
       "    <tr>\n",
       "      <th>4</th>\n",
       "      <td>87</td>\n",
       "      <td>1385</td>\n",
       "      <td>814</td>\n",
       "      <td>407</td>\n",
       "      <td>10955</td>\n",
       "      <td>0.100873</td>\n",
       "      <td>8</td>\n",
       "      <td>0</td>\n",
       "    </tr>\n",
       "    <tr>\n",
       "      <th>5</th>\n",
       "      <td>119</td>\n",
       "      <td>1632</td>\n",
       "      <td>991</td>\n",
       "      <td>454</td>\n",
       "      <td>11823</td>\n",
       "      <td>0.101020</td>\n",
       "      <td>10</td>\n",
       "      <td>0</td>\n",
       "    </tr>\n",
       "    <tr>\n",
       "      <th>...</th>\n",
       "      <td>...</td>\n",
       "      <td>...</td>\n",
       "      <td>...</td>\n",
       "      <td>...</td>\n",
       "      <td>...</td>\n",
       "      <td>...</td>\n",
       "      <td>...</td>\n",
       "      <td>...</td>\n",
       "    </tr>\n",
       "    <tr>\n",
       "      <th>188</th>\n",
       "      <td>96</td>\n",
       "      <td>1284</td>\n",
       "      <td>644</td>\n",
       "      <td>521</td>\n",
       "      <td>21626</td>\n",
       "      <td>0.114797</td>\n",
       "      <td>5</td>\n",
       "      <td>1</td>\n",
       "    </tr>\n",
       "    <tr>\n",
       "      <th>189</th>\n",
       "      <td>122</td>\n",
       "      <td>1444</td>\n",
       "      <td>643</td>\n",
       "      <td>429</td>\n",
       "      <td>20195</td>\n",
       "      <td>0.114093</td>\n",
       "      <td>7</td>\n",
       "      <td>1</td>\n",
       "    </tr>\n",
       "    <tr>\n",
       "      <th>190</th>\n",
       "      <td>120</td>\n",
       "      <td>1575</td>\n",
       "      <td>641</td>\n",
       "      <td>408</td>\n",
       "      <td>19928</td>\n",
       "      <td>0.116466</td>\n",
       "      <td>7</td>\n",
       "      <td>1</td>\n",
       "    </tr>\n",
       "    <tr>\n",
       "      <th>191</th>\n",
       "      <td>137</td>\n",
       "      <td>1737</td>\n",
       "      <td>711</td>\n",
       "      <td>490</td>\n",
       "      <td>18564</td>\n",
       "      <td>0.116026</td>\n",
       "      <td>4</td>\n",
       "      <td>1</td>\n",
       "    </tr>\n",
       "    <tr>\n",
       "      <th>192</th>\n",
       "      <td>154</td>\n",
       "      <td>1763</td>\n",
       "      <td>721</td>\n",
       "      <td>491</td>\n",
       "      <td>18149</td>\n",
       "      <td>0.116067</td>\n",
       "      <td>7</td>\n",
       "      <td>1</td>\n",
       "    </tr>\n",
       "  </tbody>\n",
       "</table>\n",
       "<p>192 rows × 8 columns</p>\n",
       "</div>"
      ],
      "text/plain": [
       "     DriversKilled  drivers  front  rear    kms  PetrolPrice  VanKilled  law\n",
       "1              107     1687    867   269   9059     0.102972         12    0\n",
       "2               97     1508    825   265   7685     0.102363          6    0\n",
       "3              102     1507    806   319   9963     0.102062         12    0\n",
       "4               87     1385    814   407  10955     0.100873          8    0\n",
       "5              119     1632    991   454  11823     0.101020         10    0\n",
       "..             ...      ...    ...   ...    ...          ...        ...  ...\n",
       "188             96     1284    644   521  21626     0.114797          5    1\n",
       "189            122     1444    643   429  20195     0.114093          7    1\n",
       "190            120     1575    641   408  19928     0.116466          7    1\n",
       "191            137     1737    711   490  18564     0.116026          4    1\n",
       "192            154     1763    721   491  18149     0.116067          7    1\n",
       "\n",
       "[192 rows x 8 columns]"
      ]
     },
     "execution_count": 147,
     "metadata": {},
     "output_type": "execute_result"
    }
   ],
   "source": [
    "import pandas as pd\n",
    "\n",
    "# df = pd.read_table(\"bike-sharing.csv\", sep=\",\", header=0)\n",
    "df = pd.read_csv('./Data.txt', sep=\" \", decimal='.')\n",
    "# df = df[df['workingday'] >= 1]\n",
    "\n",
    "df"
   ]
  },
  {
   "cell_type": "code",
   "execution_count": 148,
   "id": "9a1856bc",
   "metadata": {},
   "outputs": [
    {
     "name": "stdout",
     "output_type": "stream",
     "text": [
      "<class 'pandas.core.frame.DataFrame'>\n",
      "Int64Index: 192 entries, 1 to 192\n",
      "Data columns (total 8 columns):\n",
      " #   Column         Non-Null Count  Dtype  \n",
      "---  ------         --------------  -----  \n",
      " 0   DriversKilled  192 non-null    int64  \n",
      " 1   drivers        192 non-null    int64  \n",
      " 2   front          192 non-null    int64  \n",
      " 3   rear           192 non-null    int64  \n",
      " 4   kms            192 non-null    int64  \n",
      " 5   PetrolPrice    192 non-null    float64\n",
      " 6   VanKilled      192 non-null    int64  \n",
      " 7   law            192 non-null    int64  \n",
      "dtypes: float64(1), int64(7)\n",
      "memory usage: 13.5 KB\n"
     ]
    }
   ],
   "source": [
    "df.info()"
   ]
  },
  {
   "cell_type": "code",
   "execution_count": 149,
   "id": "494e658d",
   "metadata": {},
   "outputs": [
    {
     "data": {
      "text/html": [
       "<div>\n",
       "<style scoped>\n",
       "    .dataframe tbody tr th:only-of-type {\n",
       "        vertical-align: middle;\n",
       "    }\n",
       "\n",
       "    .dataframe tbody tr th {\n",
       "        vertical-align: top;\n",
       "    }\n",
       "\n",
       "    .dataframe thead th {\n",
       "        text-align: right;\n",
       "    }\n",
       "</style>\n",
       "<table border=\"1\" class=\"dataframe\">\n",
       "  <thead>\n",
       "    <tr style=\"text-align: right;\">\n",
       "      <th></th>\n",
       "      <th>DriversKilled</th>\n",
       "      <th>drivers</th>\n",
       "      <th>front</th>\n",
       "      <th>rear</th>\n",
       "      <th>kms</th>\n",
       "      <th>PetrolPrice</th>\n",
       "      <th>VanKilled</th>\n",
       "      <th>law</th>\n",
       "    </tr>\n",
       "  </thead>\n",
       "  <tbody>\n",
       "    <tr>\n",
       "      <th>count</th>\n",
       "      <td>192.000000</td>\n",
       "      <td>192.000000</td>\n",
       "      <td>192.000000</td>\n",
       "      <td>192.000000</td>\n",
       "      <td>192.000000</td>\n",
       "      <td>192.000000</td>\n",
       "      <td>192.000000</td>\n",
       "      <td>192.000000</td>\n",
       "    </tr>\n",
       "    <tr>\n",
       "      <th>mean</th>\n",
       "      <td>122.802083</td>\n",
       "      <td>1670.307292</td>\n",
       "      <td>837.218750</td>\n",
       "      <td>401.208333</td>\n",
       "      <td>14993.604167</td>\n",
       "      <td>0.103624</td>\n",
       "      <td>9.057292</td>\n",
       "      <td>0.119792</td>\n",
       "    </tr>\n",
       "    <tr>\n",
       "      <th>std</th>\n",
       "      <td>25.379886</td>\n",
       "      <td>289.610958</td>\n",
       "      <td>175.098967</td>\n",
       "      <td>83.102210</td>\n",
       "      <td>2938.049207</td>\n",
       "      <td>0.012176</td>\n",
       "      <td>3.636903</td>\n",
       "      <td>0.325567</td>\n",
       "    </tr>\n",
       "    <tr>\n",
       "      <th>min</th>\n",
       "      <td>60.000000</td>\n",
       "      <td>1057.000000</td>\n",
       "      <td>426.000000</td>\n",
       "      <td>224.000000</td>\n",
       "      <td>7685.000000</td>\n",
       "      <td>0.081179</td>\n",
       "      <td>2.000000</td>\n",
       "      <td>0.000000</td>\n",
       "    </tr>\n",
       "    <tr>\n",
       "      <th>25%</th>\n",
       "      <td>104.750000</td>\n",
       "      <td>1461.750000</td>\n",
       "      <td>715.500000</td>\n",
       "      <td>344.750000</td>\n",
       "      <td>12685.000000</td>\n",
       "      <td>0.092577</td>\n",
       "      <td>6.000000</td>\n",
       "      <td>0.000000</td>\n",
       "    </tr>\n",
       "    <tr>\n",
       "      <th>50%</th>\n",
       "      <td>118.500000</td>\n",
       "      <td>1631.000000</td>\n",
       "      <td>828.500000</td>\n",
       "      <td>401.500000</td>\n",
       "      <td>14987.000000</td>\n",
       "      <td>0.104477</td>\n",
       "      <td>8.000000</td>\n",
       "      <td>0.000000</td>\n",
       "    </tr>\n",
       "    <tr>\n",
       "      <th>75%</th>\n",
       "      <td>138.000000</td>\n",
       "      <td>1850.750000</td>\n",
       "      <td>950.750000</td>\n",
       "      <td>456.250000</td>\n",
       "      <td>17202.500000</td>\n",
       "      <td>0.114056</td>\n",
       "      <td>12.000000</td>\n",
       "      <td>0.000000</td>\n",
       "    </tr>\n",
       "    <tr>\n",
       "      <th>max</th>\n",
       "      <td>198.000000</td>\n",
       "      <td>2654.000000</td>\n",
       "      <td>1299.000000</td>\n",
       "      <td>646.000000</td>\n",
       "      <td>21626.000000</td>\n",
       "      <td>0.133027</td>\n",
       "      <td>17.000000</td>\n",
       "      <td>1.000000</td>\n",
       "    </tr>\n",
       "  </tbody>\n",
       "</table>\n",
       "</div>"
      ],
      "text/plain": [
       "       DriversKilled      drivers        front        rear           kms  \\\n",
       "count     192.000000   192.000000   192.000000  192.000000    192.000000   \n",
       "mean      122.802083  1670.307292   837.218750  401.208333  14993.604167   \n",
       "std        25.379886   289.610958   175.098967   83.102210   2938.049207   \n",
       "min        60.000000  1057.000000   426.000000  224.000000   7685.000000   \n",
       "25%       104.750000  1461.750000   715.500000  344.750000  12685.000000   \n",
       "50%       118.500000  1631.000000   828.500000  401.500000  14987.000000   \n",
       "75%       138.000000  1850.750000   950.750000  456.250000  17202.500000   \n",
       "max       198.000000  2654.000000  1299.000000  646.000000  21626.000000   \n",
       "\n",
       "       PetrolPrice   VanKilled         law  \n",
       "count   192.000000  192.000000  192.000000  \n",
       "mean      0.103624    9.057292    0.119792  \n",
       "std       0.012176    3.636903    0.325567  \n",
       "min       0.081179    2.000000    0.000000  \n",
       "25%       0.092577    6.000000    0.000000  \n",
       "50%       0.104477    8.000000    0.000000  \n",
       "75%       0.114056   12.000000    0.000000  \n",
       "max       0.133027   17.000000    1.000000  "
      ]
     },
     "execution_count": 149,
     "metadata": {},
     "output_type": "execute_result"
    }
   ],
   "source": [
    "df.describe()"
   ]
  },
  {
   "cell_type": "code",
   "execution_count": 150,
   "id": "d19a0cb2",
   "metadata": {},
   "outputs": [],
   "source": [
    "new_df = df.drop(['law'], axis=1)"
   ]
  },
  {
   "cell_type": "code",
   "execution_count": 151,
   "id": "5464d15a",
   "metadata": {},
   "outputs": [
    {
     "data": {
      "text/plain": [
       "<Axes: >"
      ]
     },
     "execution_count": 151,
     "metadata": {},
     "output_type": "execute_result"
    },
    {
     "data": {
      "image/png": "[encoded data removed]",
      "text/plain": [
       "<Figure size 640x480 with 2 Axes>"
      ]
     },
     "metadata": {},
     "output_type": "display_data"
    }
   ],
   "source": [
    "import pandas as pd\n",
    "import numpy as np\n",
    "import seaborn as sns\n",
    "\n",
    "correlation_matrix = new_df.corr()\n",
    "\n",
    "sns.heatmap(correlation_matrix ,\n",
    "annot=True,cmap=\"rocket_r\")"
   ]
  },
  {
   "cell_type": "markdown",
   "id": "81d463e2",
   "metadata": {},
   "source": [
    "Kadangi rear su vankilled ir petrolprice nekoreliuoja išmetame rear. Kadangi 0 arčiausiai."
   ]
  },
  {
   "cell_type": "code",
   "execution_count": 152,
   "id": "790ef2c5",
   "metadata": {},
   "outputs": [
    {
     "data": {
      "text/html": [
       "<div>\n",
       "<style scoped>\n",
       "    .dataframe tbody tr th:only-of-type {\n",
       "        vertical-align: middle;\n",
       "    }\n",
       "\n",
       "    .dataframe tbody tr th {\n",
       "        vertical-align: top;\n",
       "    }\n",
       "\n",
       "    .dataframe thead th {\n",
       "        text-align: right;\n",
       "    }\n",
       "</style>\n",
       "<table border=\"1\" class=\"dataframe\">\n",
       "  <thead>\n",
       "    <tr style=\"text-align: right;\">\n",
       "      <th></th>\n",
       "      <th>DriversKilled</th>\n",
       "      <th>drivers</th>\n",
       "      <th>front</th>\n",
       "      <th>kms</th>\n",
       "      <th>PetrolPrice</th>\n",
       "      <th>VanKilled</th>\n",
       "    </tr>\n",
       "  </thead>\n",
       "  <tbody>\n",
       "    <tr>\n",
       "      <th>1</th>\n",
       "      <td>107</td>\n",
       "      <td>1687</td>\n",
       "      <td>867</td>\n",
       "      <td>9059</td>\n",
       "      <td>0.102972</td>\n",
       "      <td>12</td>\n",
       "    </tr>\n",
       "    <tr>\n",
       "      <th>2</th>\n",
       "      <td>97</td>\n",
       "      <td>1508</td>\n",
       "      <td>825</td>\n",
       "      <td>7685</td>\n",
       "      <td>0.102363</td>\n",
       "      <td>6</td>\n",
       "    </tr>\n",
       "    <tr>\n",
       "      <th>3</th>\n",
       "      <td>102</td>\n",
       "      <td>1507</td>\n",
       "      <td>806</td>\n",
       "      <td>9963</td>\n",
       "      <td>0.102062</td>\n",
       "      <td>12</td>\n",
       "    </tr>\n",
       "    <tr>\n",
       "      <th>4</th>\n",
       "      <td>87</td>\n",
       "      <td>1385</td>\n",
       "      <td>814</td>\n",
       "      <td>10955</td>\n",
       "      <td>0.100873</td>\n",
       "      <td>8</td>\n",
       "    </tr>\n",
       "    <tr>\n",
       "      <th>5</th>\n",
       "      <td>119</td>\n",
       "      <td>1632</td>\n",
       "      <td>991</td>\n",
       "      <td>11823</td>\n",
       "      <td>0.101020</td>\n",
       "      <td>10</td>\n",
       "    </tr>\n",
       "  </tbody>\n",
       "</table>\n",
       "</div>"
      ],
      "text/plain": [
       "   DriversKilled  drivers  front    kms  PetrolPrice  VanKilled\n",
       "1            107     1687    867   9059     0.102972         12\n",
       "2             97     1508    825   7685     0.102363          6\n",
       "3            102     1507    806   9963     0.102062         12\n",
       "4             87     1385    814  10955     0.100873          8\n",
       "5            119     1632    991  11823     0.101020         10"
      ]
     },
     "execution_count": 152,
     "metadata": {},
     "output_type": "execute_result"
    }
   ],
   "source": [
    "new = new_df.drop(['rear'], axis=1)\n",
    "\n",
    "new.head()"
   ]
  },
  {
   "cell_type": "code",
   "execution_count": 161,
   "id": "e2a80fe0",
   "metadata": {},
   "outputs": [
    {
     "name": "stdout",
     "output_type": "stream",
     "text": [
      "Chi-square value: 700.2405268706345\n",
      "P-value: 1.652325445586614e-139\n"
     ]
    }
   ],
   "source": [
    "\n",
    "import numpy as np\n",
    "from sklearn.decomposition import PCA\n",
    "from sklearn.preprocessing import StandardScaler\n",
    "from factor_analyzer.factor_analyzer import calculate_bartlett_sphericity\n",
    "\n",
    "df_trans = new.select_dtypes(include=['float64','int64'])\n",
    "\n",
    "data_scaler = StandardScaler()\n",
    "dfs_transformed = data_scaler.fit_transform(df_trans)\n",
    "\n",
    "chi_square_value, p_value = calculate_bartlett_sphericity(dfs_transformed)\n",
    "\n",
    "print(\"Chi-square value:\", chi_square_value)\n",
    "print(\"P-value:\", p_value)"
   ]
  },
  {
   "cell_type": "markdown",
   "id": "82dba216",
   "metadata": {},
   "source": [
    "Kadangi 𝑝 − 𝑟𝑒𝑖𝑘š𝑚ė = 1.652325445586614e-139 < 0,05, tai galima teigti, kad stebimi kintamieji\n",
    "tarpusavyje koreliuoja."
   ]
  },
  {
   "cell_type": "markdown",
   "id": "5721854a",
   "metadata": {},
   "source": [
    "### 2. KMO skaičiavimas"
   ]
  },
  {
   "cell_type": "code",
   "execution_count": 154,
   "id": "fdff715d",
   "metadata": {},
   "outputs": [
    {
     "name": "stdout",
     "output_type": "stream",
     "text": [
      "KMO bendra reikšmė: 0.7606912136237041\n"
     ]
    }
   ],
   "source": [
    "import pandas as pd\n",
    "from factor_analyzer.factor_analyzer import calculate_kmo\n",
    "\n",
    "\n",
    "kmo_all, kmo_model = calculate_kmo(new)\n",
    "\n",
    "print(f\"KMO bendra reikšmė: {kmo_model}\")"
   ]
  },
  {
   "cell_type": "markdown",
   "id": "1505fedb",
   "metadata": {},
   "source": [
    "KMO matas svyruoja nuo 0 iki 1, kur reikšmė artima 1 rodo, kad faktorinė analizė yra tinkama, o reikšmė mažesnė nei 0.5 rodo, kad faktorinė analizė gali būti netinkama.\n",
    "\n",
    "KMO > 0.5 \n",
    "\n",
    "0.76 > 0.5\n",
    "\n",
    "KMO = 0,76 – vadinasi stebimi duomenys faktorinei analizei tinka\n",
    "patenkinamai;"
   ]
  },
  {
   "cell_type": "markdown",
   "id": "2e79a12b",
   "metadata": {},
   "source": [
    "### 3. MSA skaičiavimas"
   ]
  },
  {
   "cell_type": "code",
   "execution_count": 155,
   "id": "9287e532",
   "metadata": {},
   "outputs": [
    {
     "name": "stdout",
     "output_type": "stream",
     "text": [
      "MSA reikšmė kiekvienam kintamajam:\n",
      "\n",
      "DriversKilled: 0.73\n",
      "drivers: 0.7\n",
      "front: 0.81\n",
      "kms: 0.72\n",
      "PetrolPrice: 0.83\n",
      "VanKilled: 0.85\n"
     ]
    }
   ],
   "source": [
    "print(\"MSA reikšmė kiekvienam kintamajam:\")\n",
    "\n",
    "print()\n",
    "\n",
    "for column, kmo in zip(new.columns, kmo_all):\n",
    "    print(f\"{column}: {round(kmo, 2)}\")\n"
   ]
  },
  {
   "cell_type": "markdown",
   "id": "04962a2b",
   "metadata": {},
   "source": [
    "Vadinasi visi stebimi kintamieji tinka faktorinei analizei, nes visos 𝑀𝑆𝐴𝑖 > 0,5"
   ]
  },
  {
   "cell_type": "markdown",
   "id": "ad54f07d",
   "metadata": {},
   "source": [
    "### 4. Rasti kovariacijų matricos tikrinius vektorius ir tikrines reikšmes"
   ]
  },
  {
   "cell_type": "code",
   "execution_count": 156,
   "id": "0fe13342",
   "metadata": {},
   "outputs": [
    {
     "data": {
      "text/html": [
       "<div>\n",
       "<style scoped>\n",
       "    .dataframe tbody tr th:only-of-type {\n",
       "        vertical-align: middle;\n",
       "    }\n",
       "\n",
       "    .dataframe tbody tr th {\n",
       "        vertical-align: top;\n",
       "    }\n",
       "\n",
       "    .dataframe thead th {\n",
       "        text-align: right;\n",
       "    }\n",
       "</style>\n",
       "<table border=\"1\" class=\"dataframe\">\n",
       "  <thead>\n",
       "    <tr style=\"text-align: right;\">\n",
       "      <th></th>\n",
       "      <th>DriversKilled</th>\n",
       "      <th>drivers</th>\n",
       "      <th>front</th>\n",
       "      <th>kms</th>\n",
       "      <th>PetrolPrice</th>\n",
       "      <th>VanKilled</th>\n",
       "    </tr>\n",
       "  </thead>\n",
       "  <tbody>\n",
       "    <tr>\n",
       "      <th>1</th>\n",
       "      <td>107</td>\n",
       "      <td>1687</td>\n",
       "      <td>867</td>\n",
       "      <td>9059</td>\n",
       "      <td>0.102972</td>\n",
       "      <td>12</td>\n",
       "    </tr>\n",
       "    <tr>\n",
       "      <th>2</th>\n",
       "      <td>97</td>\n",
       "      <td>1508</td>\n",
       "      <td>825</td>\n",
       "      <td>7685</td>\n",
       "      <td>0.102363</td>\n",
       "      <td>6</td>\n",
       "    </tr>\n",
       "    <tr>\n",
       "      <th>3</th>\n",
       "      <td>102</td>\n",
       "      <td>1507</td>\n",
       "      <td>806</td>\n",
       "      <td>9963</td>\n",
       "      <td>0.102062</td>\n",
       "      <td>12</td>\n",
       "    </tr>\n",
       "    <tr>\n",
       "      <th>4</th>\n",
       "      <td>87</td>\n",
       "      <td>1385</td>\n",
       "      <td>814</td>\n",
       "      <td>10955</td>\n",
       "      <td>0.100873</td>\n",
       "      <td>8</td>\n",
       "    </tr>\n",
       "    <tr>\n",
       "      <th>5</th>\n",
       "      <td>119</td>\n",
       "      <td>1632</td>\n",
       "      <td>991</td>\n",
       "      <td>11823</td>\n",
       "      <td>0.101020</td>\n",
       "      <td>10</td>\n",
       "    </tr>\n",
       "  </tbody>\n",
       "</table>\n",
       "</div>"
      ],
      "text/plain": [
       "   DriversKilled  drivers  front    kms  PetrolPrice  VanKilled\n",
       "1            107     1687    867   9059     0.102972         12\n",
       "2             97     1508    825   7685     0.102363          6\n",
       "3            102     1507    806   9963     0.102062         12\n",
       "4             87     1385    814  10955     0.100873          8\n",
       "5            119     1632    991  11823     0.101020         10"
      ]
     },
     "execution_count": 156,
     "metadata": {},
     "output_type": "execute_result"
    }
   ],
   "source": [
    "new.head()"
   ]
  },
  {
   "cell_type": "code",
   "execution_count": 163,
   "id": "3753b12e",
   "metadata": {},
   "outputs": [
    {
     "name": "stdout",
     "output_type": "stream",
     "text": [
      "Kovariacijų matricos tikrinės reikšmės:\n",
      "[3.56851871 0.91455797 0.08450404 0.72212628 0.2606325  0.48107412]\n",
      "Kovariacijų matricos tikriniai vektoriai:\n",
      "[[-0.44747659 -0.39646082  0.54973809 -0.21921027 -0.49459109 -0.21839885]\n",
      " [-0.48798763 -0.26723031 -0.78949317 -0.15935054 -0.06573816 -0.19350055]\n",
      " [-0.46218078 -0.24910202  0.24934481  0.05455618  0.79210255  0.1782174 ]\n",
      " [ 0.32660508 -0.6841242  -0.10729695 -0.03160174 -0.13017983  0.62916222]\n",
      " [ 0.3422249  -0.08455782  0.02805171 -0.85691203  0.27953304 -0.25001649]\n",
      " [-0.35246693  0.48392046 -0.00402348 -0.43391357 -0.16895615  0.6517244 ]]\n"
     ]
    }
   ],
   "source": [
    "import numpy as np\n",
    "\n",
    "cov_matrix = np.cov(dfs_transformed, rowvar=False)\n",
    "\n",
    "eigen_values, eigen_vectors = np.linalg.eig(cov_matrix)\n",
    "\n",
    "print(\"Kovariacijų matricos tikrinės reikšmės:\")\n",
    "print(eigen_values)\n",
    "\n",
    "print(\"Kovariacijų matricos tikriniai vektoriai:\")\n",
    "print(eigen_vectors)"
   ]
  },
  {
   "cell_type": "markdown",
   "id": "e989c235",
   "metadata": {},
   "source": [
    "### 5. Apskaičiuotos pagrindinių komponenčių dispersijas"
   ]
  },
  {
   "cell_type": "code",
   "execution_count": 168,
   "id": "c9cfb657",
   "metadata": {},
   "outputs": [
    {
     "name": "stdout",
     "output_type": "stream",
     "text": [
      "3.5685\n",
      "0.9146\n",
      "0.0845\n",
      "0.7221\n",
      "0.2606\n",
      "0.4811\n"
     ]
    }
   ],
   "source": [
    "for i in eigen_values:\n",
    "    print(round(i, 4))"
   ]
  },
  {
   "cell_type": "markdown",
   "id": "11c90146",
   "metadata": {},
   "source": [
    "Pagrindinių komponenčių dispersijos yra:\n",
    "3.56851871 0.91455797 0.08450404 0.72212628 0.2606325  0.48107412"
   ]
  },
  {
   "cell_type": "code",
   "execution_count": 169,
   "id": "e11a7329",
   "metadata": {},
   "outputs": [
    {
     "name": "stdout",
     "output_type": "stream",
     "text": [
      "Standard deviation [1.88905233 0.95632524 0.29069579 0.84978014 0.51052179 0.69359507]\n",
      "Proportion of Variance [0.59165545 0.15163244 0.01401065 0.11972753 0.04321251 0.07976142]\n",
      "Cumulative Proportion [0.59165545 0.74328789 0.75729854 0.87702607 0.92023858 1.        ]\n"
     ]
    }
   ],
   "source": [
    "# Skaičiuojame proporcingą dispersiją\n",
    "variance_proportion = eigen_values / np.sum(eigen_values)\n",
    "\n",
    "# Skaičiuojame kumuliatyvų proporcingą dispersiją\n",
    "cumulative_variance_proportion = np.cumsum(variance_proportion)\n",
    "\n",
    "# Spausdiname rezultatus\n",
    "print(\"Standard deviation\", np.sqrt(eigen_values))\n",
    "print(\"Proportion of Variance\", variance_proportion)\n",
    "print(\"Cumulative Proportion\", cumulative_variance_proportion)"
   ]
  }
 ],
 "metadata": {
  "kernelspec": {
   "display_name": "Python 3 (ipykernel)",
   "language": "python",
   "name": "python3"
  },
  "language_info": {
   "codemirror_mode": {
    "name": "ipython",
    "version": 3
   },
   "file_extension": ".py",
   "mimetype": "text/x-python",
   "name": "python",
   "nbconvert_exporter": "python",
   "pygments_lexer": "ipython3",
   "version": "3.10.7"
  }
 },
 "nbformat": 4,
 "nbformat_minor": 5
}
